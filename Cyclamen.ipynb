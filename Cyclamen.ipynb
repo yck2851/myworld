{
 "cells": [
  {
   "cell_type": "markdown",
   "metadata": {},
   "source": [
    "# Cyclamenのデータ結合"
   ]
  },
  {
   "cell_type": "markdown",
   "metadata": {},
   "source": [
    "# インストール"
   ]
  },
  {
   "cell_type": "code",
   "execution_count": 43,
   "metadata": {
    "scrolled": true
   },
   "outputs": [
    {
     "name": "stdout",
     "output_type": "stream",
     "text": [
      "Requirement already satisfied: scipy in /work/firstuser/anaconda3/envs/beakerx/lib/python3.7/site-packages (1.1.0)\n",
      "Requirement already satisfied: numpy>=1.8.2 in /work/firstuser/anaconda3/envs/beakerx/lib/python3.7/site-packages (from scipy) (1.15.4)\n",
      "Requirement already satisfied: xlrd in /work/firstuser/anaconda3/envs/beakerx/lib/python3.7/site-packages (1.1.0)\n",
      "Requirement already satisfied: openpyxl in /work/firstuser/anaconda3/envs/beakerx/lib/python3.7/site-packages (2.5.12)\n",
      "Requirement already satisfied: jdcal in /work/firstuser/anaconda3/envs/beakerx/lib/python3.7/site-packages (from openpyxl) (1.4)\n",
      "Requirement already satisfied: et-xmlfile in /work/firstuser/anaconda3/envs/beakerx/lib/python3.7/site-packages (from openpyxl) (1.0.1)\n",
      "Requirement already satisfied: matplotlib in /work/firstuser/anaconda3/envs/beakerx/lib/python3.7/site-packages (3.0.2)\n",
      "Requirement already satisfied: pyparsing!=2.0.4,!=2.1.2,!=2.1.6,>=2.0.1 in /work/firstuser/anaconda3/envs/beakerx/lib/python3.7/site-packages (from matplotlib) (2.3.0)\n",
      "Requirement already satisfied: numpy>=1.10.0 in /work/firstuser/anaconda3/envs/beakerx/lib/python3.7/site-packages (from matplotlib) (1.15.4)\n",
      "Requirement already satisfied: python-dateutil>=2.1 in /work/firstuser/anaconda3/envs/beakerx/lib/python3.7/site-packages (from matplotlib) (2.7.5)\n",
      "Requirement already satisfied: kiwisolver>=1.0.1 in /work/firstuser/anaconda3/envs/beakerx/lib/python3.7/site-packages (from matplotlib) (1.0.1)\n",
      "Requirement already satisfied: cycler>=0.10 in /work/firstuser/anaconda3/envs/beakerx/lib/python3.7/site-packages (from matplotlib) (0.10.0)\n",
      "Requirement already satisfied: six>=1.5 in /work/firstuser/anaconda3/envs/beakerx/lib/python3.7/site-packages (from python-dateutil>=2.1->matplotlib) (1.11.0)\n",
      "Requirement already satisfied: setuptools in /work/firstuser/anaconda3/envs/beakerx/lib/python3.7/site-packages (from kiwisolver>=1.0.1->matplotlib) (40.6.2)\n",
      "Requirement already satisfied: numpy in /work/firstuser/anaconda3/envs/beakerx/lib/python3.7/site-packages (1.15.4)\n"
     ]
    }
   ],
   "source": [
    "!pip install scipy\n",
    "!pip install xlrd\n",
    "!pip install openpyxl\n",
    "!pip install matplotlib\n",
    "!pip install numpy"
   ]
  },
  {
   "cell_type": "code",
   "execution_count": 48,
   "metadata": {
    "scrolled": true
   },
   "outputs": [
    {
     "name": "stdout",
     "output_type": "stream",
     "text": [
      "Name: numpy\r\n",
      "Version: 1.15.4\r\n",
      "Summary: NumPy: array processing for numbers, strings, records, and objects.\r\n",
      "Home-page: http://www.numpy.org\r\n",
      "Author: Travis E. Oliphant et al.\r\n",
      "Author-email: None\r\n",
      "License: BSD\r\n",
      "Location: /work/firstuser/anaconda3/envs/beakerx/lib/python3.7/site-packages\r\n",
      "Requires: \r\n",
      "Required-by: scipy, pandas, matplotlib\r\n"
     ]
    }
   ],
   "source": [
    "!pip show numpy"
   ]
  },
  {
   "cell_type": "markdown",
   "metadata": {},
   "source": [
    "# ライブラリのインポート"
   ]
  },
  {
   "cell_type": "code",
   "execution_count": 49,
   "metadata": {
    "scrolled": true
   },
   "outputs": [
    {
     "ename": "RuntimeError",
     "evalue": "module compiled against API version 0xc but this version of numpy is 0xa",
     "output_type": "error",
     "traceback": [
      "\u001b[0;31m---------------------------------------------------------------------------\u001b[0m",
      "\u001b[0;31mRuntimeError\u001b[0m                              Traceback (most recent call last)",
      "\u001b[0;31mRuntimeError\u001b[0m: module compiled against API version 0xc but this version of numpy is 0xa"
     ]
    },
    {
     "ename": "ImportError",
     "evalue": "numpy.core.multiarray failed to import",
     "output_type": "error",
     "traceback": [
      "\u001b[0;31m---------------------------------------------------------------------------\u001b[0m",
      "\u001b[0;31mImportError\u001b[0m                               Traceback (most recent call last)",
      "\u001b[0;32m<ipython-input-49-9a374ebc6851>\u001b[0m in \u001b[0;36m<module>\u001b[0;34m\u001b[0m\n\u001b[1;32m     10\u001b[0m \u001b[0;34m\u001b[0m\u001b[0m\n\u001b[1;32m     11\u001b[0m \u001b[0;31m# 可視化ライブラリ\u001b[0m\u001b[0;34m\u001b[0m\u001b[0;34m\u001b[0m\u001b[0;34m\u001b[0m\u001b[0m\n\u001b[0;32m---> 12\u001b[0;31m \u001b[0;32mimport\u001b[0m \u001b[0mmatplotlib\u001b[0m\u001b[0;34m.\u001b[0m\u001b[0mpyplot\u001b[0m \u001b[0;32mas\u001b[0m \u001b[0mplt\u001b[0m\u001b[0;34m\u001b[0m\u001b[0;34m\u001b[0m\u001b[0m\n\u001b[0m\u001b[1;32m     13\u001b[0m \u001b[0;32mimport\u001b[0m \u001b[0mmatplotlib\u001b[0m \u001b[0;32mas\u001b[0m \u001b[0mmpl\u001b[0m\u001b[0;34m\u001b[0m\u001b[0;34m\u001b[0m\u001b[0m\n\u001b[1;32m     14\u001b[0m \u001b[0;32mimport\u001b[0m \u001b[0mseaborn\u001b[0m \u001b[0;32mas\u001b[0m \u001b[0msns\u001b[0m\u001b[0;34m\u001b[0m\u001b[0;34m\u001b[0m\u001b[0m\n",
      "\u001b[0;32m/work/firstuser/anaconda3/envs/beakerx/lib/python3.7/site-packages/matplotlib/pyplot.py\u001b[0m in \u001b[0;36m<module>\u001b[0;34m\u001b[0m\n\u001b[1;32m     30\u001b[0m \u001b[0;32mfrom\u001b[0m \u001b[0mcycler\u001b[0m \u001b[0;32mimport\u001b[0m \u001b[0mcycler\u001b[0m\u001b[0;34m\u001b[0m\u001b[0;34m\u001b[0m\u001b[0m\n\u001b[1;32m     31\u001b[0m \u001b[0;32mimport\u001b[0m \u001b[0mmatplotlib\u001b[0m\u001b[0;34m\u001b[0m\u001b[0;34m\u001b[0m\u001b[0m\n\u001b[0;32m---> 32\u001b[0;31m \u001b[0;32mimport\u001b[0m \u001b[0mmatplotlib\u001b[0m\u001b[0;34m.\u001b[0m\u001b[0mcolorbar\u001b[0m\u001b[0;34m\u001b[0m\u001b[0;34m\u001b[0m\u001b[0m\n\u001b[0m\u001b[1;32m     33\u001b[0m \u001b[0;32mimport\u001b[0m \u001b[0mmatplotlib\u001b[0m\u001b[0;34m.\u001b[0m\u001b[0mimage\u001b[0m\u001b[0;34m\u001b[0m\u001b[0;34m\u001b[0m\u001b[0m\n\u001b[1;32m     34\u001b[0m \u001b[0;32mfrom\u001b[0m \u001b[0mmatplotlib\u001b[0m \u001b[0;32mimport\u001b[0m \u001b[0mrcsetup\u001b[0m\u001b[0;34m,\u001b[0m \u001b[0mstyle\u001b[0m\u001b[0;34m\u001b[0m\u001b[0;34m\u001b[0m\u001b[0m\n",
      "\u001b[0;32m/work/firstuser/anaconda3/envs/beakerx/lib/python3.7/site-packages/matplotlib/colorbar.py\u001b[0m in \u001b[0;36m<module>\u001b[0;34m\u001b[0m\n\u001b[1;32m     26\u001b[0m \u001b[0;34m\u001b[0m\u001b[0m\n\u001b[1;32m     27\u001b[0m \u001b[0;32mimport\u001b[0m \u001b[0mmatplotlib\u001b[0m \u001b[0;32mas\u001b[0m \u001b[0mmpl\u001b[0m\u001b[0;34m\u001b[0m\u001b[0;34m\u001b[0m\u001b[0m\n\u001b[0;32m---> 28\u001b[0;31m \u001b[0;32mimport\u001b[0m \u001b[0mmatplotlib\u001b[0m\u001b[0;34m.\u001b[0m\u001b[0martist\u001b[0m \u001b[0;32mas\u001b[0m \u001b[0mmartist\u001b[0m\u001b[0;34m\u001b[0m\u001b[0;34m\u001b[0m\u001b[0m\n\u001b[0m\u001b[1;32m     29\u001b[0m \u001b[0;32mimport\u001b[0m \u001b[0mmatplotlib\u001b[0m\u001b[0;34m.\u001b[0m\u001b[0mcbook\u001b[0m \u001b[0;32mas\u001b[0m \u001b[0mcbook\u001b[0m\u001b[0;34m\u001b[0m\u001b[0;34m\u001b[0m\u001b[0m\n\u001b[1;32m     30\u001b[0m \u001b[0;32mimport\u001b[0m \u001b[0mmatplotlib\u001b[0m\u001b[0;34m.\u001b[0m\u001b[0mcollections\u001b[0m \u001b[0;32mas\u001b[0m \u001b[0mcollections\u001b[0m\u001b[0;34m\u001b[0m\u001b[0;34m\u001b[0m\u001b[0m\n",
      "\u001b[0;32m/work/firstuser/anaconda3/envs/beakerx/lib/python3.7/site-packages/matplotlib/artist.py\u001b[0m in \u001b[0;36m<module>\u001b[0;34m\u001b[0m\n\u001b[1;32m      9\u001b[0m \u001b[0;32mimport\u001b[0m \u001b[0mmatplotlib\u001b[0m\u001b[0;34m\u001b[0m\u001b[0;34m\u001b[0m\u001b[0m\n\u001b[1;32m     10\u001b[0m \u001b[0;32mfrom\u001b[0m \u001b[0;34m.\u001b[0m \u001b[0;32mimport\u001b[0m \u001b[0mcbook\u001b[0m\u001b[0;34m,\u001b[0m \u001b[0mdocstring\u001b[0m\u001b[0;34m,\u001b[0m \u001b[0mrcParams\u001b[0m\u001b[0;34m\u001b[0m\u001b[0;34m\u001b[0m\u001b[0m\n\u001b[0;32m---> 11\u001b[0;31m \u001b[0;32mfrom\u001b[0m \u001b[0;34m.\u001b[0m\u001b[0mpath\u001b[0m \u001b[0;32mimport\u001b[0m \u001b[0mPath\u001b[0m\u001b[0;34m\u001b[0m\u001b[0;34m\u001b[0m\u001b[0m\n\u001b[0m\u001b[1;32m     12\u001b[0m from .transforms import (Bbox, IdentityTransform, Transform, TransformedBbox,\n\u001b[1;32m     13\u001b[0m                          TransformedPatchPath, TransformedPath)\n",
      "\u001b[0;32m/work/firstuser/anaconda3/envs/beakerx/lib/python3.7/site-packages/matplotlib/path.py\u001b[0m in \u001b[0;36m<module>\u001b[0;34m\u001b[0m\n\u001b[1;32m     15\u001b[0m \u001b[0;32mimport\u001b[0m \u001b[0mnumpy\u001b[0m \u001b[0;32mas\u001b[0m \u001b[0mnp\u001b[0m\u001b[0;34m\u001b[0m\u001b[0;34m\u001b[0m\u001b[0m\n\u001b[1;32m     16\u001b[0m \u001b[0;34m\u001b[0m\u001b[0m\n\u001b[0;32m---> 17\u001b[0;31m \u001b[0;32mfrom\u001b[0m \u001b[0;34m.\u001b[0m \u001b[0;32mimport\u001b[0m \u001b[0m_path\u001b[0m\u001b[0;34m,\u001b[0m \u001b[0mrcParams\u001b[0m\u001b[0;34m\u001b[0m\u001b[0;34m\u001b[0m\u001b[0m\n\u001b[0m\u001b[1;32m     18\u001b[0m \u001b[0;32mfrom\u001b[0m \u001b[0;34m.\u001b[0m\u001b[0mcbook\u001b[0m \u001b[0;32mimport\u001b[0m \u001b[0m_to_unmasked_float_array\u001b[0m\u001b[0;34m,\u001b[0m \u001b[0msimple_linear_interpolation\u001b[0m\u001b[0;34m\u001b[0m\u001b[0;34m\u001b[0m\u001b[0m\n\u001b[1;32m     19\u001b[0m \u001b[0;34m\u001b[0m\u001b[0m\n",
      "\u001b[0;31mImportError\u001b[0m: numpy.core.multiarray failed to import"
     ]
    }
   ],
   "source": [
    "import numpy as np\n",
    "import scipy as sp\n",
    "import pandas as pd\n",
    "from pandas import Series, DataFrame\n",
    "\n",
    "#エクセル読み込み・書き込み\n",
    "import xlrd\n",
    "import pprint\n",
    "import openpyxl\n",
    "\n",
    "# 可視化ライブラリ\n",
    "import matplotlib.pyplot as plt\n",
    "import matplotlib as mpl\n",
    "import seaborn as sns\n",
    "%matplotlib inline\n",
    "\n",
    "# 小数第3位まで表示\n",
    "%precision 3"
   ]
  },
  {
   "cell_type": "markdown",
   "metadata": {},
   "source": [
    "# ファイル読み込み"
   ]
  },
  {
   "cell_type": "code",
   "execution_count": 42,
   "metadata": {},
   "outputs": [],
   "source": [
    "#入力データファイルパス\n",
    "ref_filename='C:/Users/SST170320\\Desktop\\Work_Cyclamen/Ref対応表.xlsx'\n",
    "result_filename='C:/Users/SST170320/Desktop/Work_Cyclamen/解析結果アノテーション.xlsx'"
   ]
  },
  {
   "cell_type": "markdown",
   "metadata": {},
   "source": [
    "# データセット"
   ]
  },
  {
   "cell_type": "code",
   "execution_count": null,
   "metadata": {},
   "outputs": [],
   "source": [
    "#データフレーム作成\n",
    "\n",
    "#\n",
    "def preprocess(x):\n",
    "    # 不要な行, 列のフィルタなど、データサイズを削減する処理＊何かする場合はここに\n",
    "    return x\n",
    "\n",
    "#指定フォルダcsvを読み込み、chunksize = 50にしてメモリから溢れないように読み込み\n",
    "def read_csv_to_dataframe(result_filename):\n",
    "    dataset1= pd.read_excel(result_filename, sheet_name=0,chunksize=50)\n",
    "    df0_result = pd.concat((preprocess(r) for r in dataset1), ignore_index=True)#preprocessを行いながら、読み込み\n",
    "    return df0_result\n",
    "\n",
    "#解析結果アノテーションのシートごとに読み込み\n",
    "#dataset1= pd.read_excel('C:/Users/SST170320/Desktop/Work_Cyclamen/解析結果アノテーション.xlsx', sheet_name=0,chunksize=50)\n",
    "#df0_result_table = pd.concat((preprocess(r) for r in dataset1), ignore_index=True)#preprocessを行いながら、読み込み\n",
    "#df1_result_table= pd.read_excel('C:/Users/SST170320/Desktop/Work_Cyclamen/解析結果アノテーション.xlsx', sheet_name=1)\n",
    "#df2_result_table= pd.read_excel('C:/Users/SST170320/Desktop/Work_Cyclamen/解析結果アノテーション.xlsx', sheet_name=2)\n",
    "#df3_result_table= pd.read_excel('C:/Users/SST170320/Desktop/Work_Cyclamen/解析結果アノテーション.xlsx', sheet_name=3)\n",
    "\n",
    "\n",
    "#ファイルの中身確認\n",
    "print(df_ref_compare.head())\n",
    "print(df0_result.head())"
   ]
  },
  {
   "cell_type": "markdown",
   "metadata": {},
   "source": [
    "# データフレームの編集"
   ]
  },
  {
   "cell_type": "code",
   "execution_count": null,
   "metadata": {},
   "outputs": [],
   "source": [
    "#最初の行削除\n",
    "df0_result_trim = df0_result.drop(0)\n",
    "\n",
    "#列名変更（keyとなる列名をそろえる\n",
    "df0_ref_trim = df.rename(columns={'sseqid(SNmp_SNp_Trinity)': 'key'})\n",
    "df0_result_trim = df.rename(columns={'コンティグ名': 'key'})\n",
    "\n",
    "#結合\n",
    "df_output = pd.merge(df0_result_table,df_ref_compare,how='left')\n",
    "\n",
    "\n",
    "#エクセルへ書き込み\n",
    "df_output.to_excel('data/dst/pandas_to_excel.xlsx', sheet_name='new_sheet_name')\n"
   ]
  }
 ],
 "metadata": {
  "kernelspec": {
   "display_name": "Python 3",
   "language": "python",
   "name": "python3"
  },
  "language_info": {
   "codemirror_mode": {
    "name": "ipython",
    "version": 3
   },
   "file_extension": ".py",
   "mimetype": "text/x-python",
   "name": "python",
   "nbconvert_exporter": "python",
   "pygments_lexer": "ipython3",
   "version": "3.7.1"
  },
  "toc": {
   "base_numbering": 1,
   "nav_menu": {},
   "number_sections": false,
   "sideBar": false,
   "skip_h1_title": false,
   "title_cell": "Table of Contents",
   "title_sidebar": "Contents",
   "toc_cell": false,
   "toc_position": {},
   "toc_section_display": false,
   "toc_window_display": false
  }
 },
 "nbformat": 4,
 "nbformat_minor": 2
}
